{
 "cells": [
  {
   "cell_type": "code",
   "execution_count": 1,
   "metadata": {},
   "outputs": [],
   "source": [
    "import pandas as pd\n",
    "import numpy as np\n",
    "import matplotlib.pyplot as plt"
   ]
  },
  {
   "cell_type": "markdown",
   "metadata": {},
   "source": [
    "# Wrangling"
   ]
  },
  {
   "cell_type": "code",
   "execution_count": 2,
   "metadata": {},
   "outputs": [],
   "source": [
    "df = pd.read_csv('Data/nfl_player_stats_by_career_2020.csv')"
   ]
  },
  {
   "cell_type": "code",
   "execution_count": 3,
   "metadata": {},
   "outputs": [],
   "source": [
    "# set option so I'm able to see all my columns\n",
    "pd.set_option('display.max_columns', None)\n",
    "\n",
    "#I've filtered out non-QBs by including only player's who've thrown over 800 passes in there career\n",
    "# in the modern nfl a quarter back will throw 800 passes in about 3 seasons.\n",
    "qb_df = df[df['attempted_passes'] > 800]\n",
    "\n",
    "#dropped all columns that do not pertain to QBs.\n",
    "qb_df = qb_df.dropna(axis=1)\n",
    "\n",
    "#dropped unnecessary columns\n",
    "qb_df.drop(columns=['id', 'sacks', 'year', 'fumbles_recovered', 'fumbles_recovered_for_touchdown', \n",
    "                    'longest_pass', 'longest_rush', 'touches', 'yards_lost_to_sacks', 'yards_per_touch',\n",
    "                    'yards_recovered_from_fumble', 'birth_date', 'height', 'weight', 'season', 'approximate_value'], inplace=True, errors='ignore')\n",
    "\n",
    "\n",
    "#split-up and dropped the qb_record column\n",
    "qb_df[['wins','loss', 'tie']] = qb_df['qb_record'].str.split('-',expand=True)\n",
    "\n",
    "qb_df = qb_df.astype({'wins': 'int64', 'loss': 'int64','tie': 'int64'})\n",
    "\n",
    "qb_df.drop(columns=['qb_record'], inplace=True)\n",
    "\n",
    "#normalize some features per game\n",
    "qb_df['fumbles_per_game'] = qb_df['fumbles'] / qb_df['games']\n",
    "qb_df['int_per_game'] = qb_df['interceptions_thrown'] / qb_df['games']\n",
    "qb_df['win_per'] = qb_df['wins'] / qb_df['games']\n",
    "qb_df.drop(columns=['fumbles', 'interceptions_thrown', 'loss', 'tie'], inplace=True)"
   ]
  },
  {
   "cell_type": "code",
   "execution_count": 4,
   "metadata": {},
   "outputs": [
    {
     "data": {
      "text/html": [
       "<div>\n",
       "<style scoped>\n",
       "    .dataframe tbody tr th:only-of-type {\n",
       "        vertical-align: middle;\n",
       "    }\n",
       "\n",
       "    .dataframe tbody tr th {\n",
       "        vertical-align: top;\n",
       "    }\n",
       "\n",
       "    .dataframe thead th {\n",
       "        text-align: right;\n",
       "    }\n",
       "</style>\n",
       "<table border=\"1\" class=\"dataframe\">\n",
       "  <thead>\n",
       "    <tr style=\"text-align: right;\">\n",
       "      <th></th>\n",
       "      <th>name</th>\n",
       "      <th>hof</th>\n",
       "    </tr>\n",
       "  </thead>\n",
       "  <tbody>\n",
       "    <tr>\n",
       "      <th>0</th>\n",
       "      <td>Steve Atwater</td>\n",
       "      <td>1</td>\n",
       "    </tr>\n",
       "    <tr>\n",
       "      <th>1</th>\n",
       "      <td>Isaac Bruce</td>\n",
       "      <td>1</td>\n",
       "    </tr>\n",
       "    <tr>\n",
       "      <th>2</th>\n",
       "      <td>Harold Carmichael</td>\n",
       "      <td>1</td>\n",
       "    </tr>\n",
       "    <tr>\n",
       "      <th>3</th>\n",
       "      <td>Jimbo Covert</td>\n",
       "      <td>1</td>\n",
       "    </tr>\n",
       "    <tr>\n",
       "      <th>4</th>\n",
       "      <td>Bobby Dillon</td>\n",
       "      <td>1</td>\n",
       "    </tr>\n",
       "    <tr>\n",
       "      <th>...</th>\n",
       "      <td>...</td>\n",
       "      <td>...</td>\n",
       "    </tr>\n",
       "    <tr>\n",
       "      <th>289</th>\n",
       "      <td>Cal Hubbard</td>\n",
       "      <td>1</td>\n",
       "    </tr>\n",
       "    <tr>\n",
       "      <th>290</th>\n",
       "      <td>Don Hutson</td>\n",
       "      <td>1</td>\n",
       "    </tr>\n",
       "    <tr>\n",
       "      <th>291</th>\n",
       "      <td>Bronko Nagurski</td>\n",
       "      <td>1</td>\n",
       "    </tr>\n",
       "    <tr>\n",
       "      <th>292</th>\n",
       "      <td>Ernie Nevers</td>\n",
       "      <td>1</td>\n",
       "    </tr>\n",
       "    <tr>\n",
       "      <th>293</th>\n",
       "      <td>Jim Thorpe</td>\n",
       "      <td>1</td>\n",
       "    </tr>\n",
       "  </tbody>\n",
       "</table>\n",
       "<p>294 rows × 2 columns</p>\n",
       "</div>"
      ],
      "text/plain": [
       "                  name  hof\n",
       "0        Steve Atwater    1\n",
       "1          Isaac Bruce    1\n",
       "2    Harold Carmichael    1\n",
       "3         Jimbo Covert    1\n",
       "4         Bobby Dillon    1\n",
       "..                 ...  ...\n",
       "289        Cal Hubbard    1\n",
       "290         Don Hutson    1\n",
       "291    Bronko Nagurski    1\n",
       "292       Ernie Nevers    1\n",
       "293         Jim Thorpe    1\n",
       "\n",
       "[294 rows x 2 columns]"
      ]
     },
     "execution_count": 4,
     "metadata": {},
     "output_type": "execute_result"
    }
   ],
   "source": [
    "#import and wrangler HOF csv.\n",
    "hof = pd.read_csv('Data/Hall of Fame List.csv')\n",
    "\n",
    "hof['hof'] = 1\n",
    "\n",
    "hof = hof[['name', 'hof']]\n",
    "\n",
    "hof"
   ]
  },
  {
   "cell_type": "code",
   "execution_count": 5,
   "metadata": {},
   "outputs": [],
   "source": [
    "#merged qb and HOF datasets\n",
    "qb_df = pd.merge(qb_df, hof, on='name', how='left')\n",
    "\n",
    "qb_df.set_index('player_id', inplace=True)"
   ]
  },
  {
   "cell_type": "code",
   "execution_count": 6,
   "metadata": {},
   "outputs": [],
   "source": [
    "#data cleaning\n",
    "qb_df.drop(columns='name', inplace=True)\n",
    "qb_df['hof'] = qb_df['hof'].replace(np.NaN, 0)"
   ]
  },
  {
   "cell_type": "code",
   "execution_count": 7,
   "metadata": {},
   "outputs": [],
   "source": [
    "#import/wrangle/merge player season data to get years played in NFL\n",
    "sdf = pd.read_csv('Data/nfl_player_stats_by_season_2020.csv')\n",
    "\n",
    "sdf_qb = sdf[sdf['player_id'].isin(qb_df.index)]\n",
    "\n",
    "sdf_pb_group = sdf_qb.groupby('player_id').agg(start_year = ('season' , 'min'), end_year = ('season', 'max'))\n",
    "\n",
    "qb_df = pd.merge(qb_df, sdf_pb_group, on='player_id', how='left')\n",
    "\n",
    "#filtered out active/ineligible QBs from the data set\n",
    "test = qb_df[qb_df['end_year'] >= 2015]\n",
    "qb_df = qb_df[qb_df['end_year'] < 2015]"
   ]
  },
  {
   "cell_type": "code",
   "execution_count": 8,
   "metadata": {},
   "outputs": [
    {
     "data": {
      "text/html": [
       "<div>\n",
       "<style scoped>\n",
       "    .dataframe tbody tr th:only-of-type {\n",
       "        vertical-align: middle;\n",
       "    }\n",
       "\n",
       "    .dataframe tbody tr th {\n",
       "        vertical-align: top;\n",
       "    }\n",
       "\n",
       "    .dataframe thead th {\n",
       "        text-align: right;\n",
       "    }\n",
       "</style>\n",
       "<table border=\"1\" class=\"dataframe\">\n",
       "  <thead>\n",
       "    <tr style=\"text-align: right;\">\n",
       "      <th></th>\n",
       "      <th>adjusted_net_yards_per_pass_attempt</th>\n",
       "      <th>adjusted_yards_per_attempt</th>\n",
       "      <th>attempted_passes</th>\n",
       "      <th>completed_passes</th>\n",
       "      <th>fourth_quarter_comebacks</th>\n",
       "      <th>game_winning_drives</th>\n",
       "      <th>games</th>\n",
       "      <th>games_started</th>\n",
       "      <th>interception_percentage</th>\n",
       "      <th>net_yards_per_pass_attempt</th>\n",
       "      <th>passing_completion</th>\n",
       "      <th>passing_touchdown_percentage</th>\n",
       "      <th>passing_touchdowns</th>\n",
       "      <th>passing_yards</th>\n",
       "      <th>passing_yards_per_attempt</th>\n",
       "      <th>quarterback_rating</th>\n",
       "      <th>rush_attempts</th>\n",
       "      <th>rush_attempts_per_game</th>\n",
       "      <th>rush_touchdowns</th>\n",
       "      <th>rush_yards</th>\n",
       "      <th>rush_yards_per_attempt</th>\n",
       "      <th>rush_yards_per_game</th>\n",
       "      <th>rushing_and_receiving_touchdowns</th>\n",
       "      <th>times_sacked</th>\n",
       "      <th>yards_from_scrimmage</th>\n",
       "      <th>yards_per_completed_pass</th>\n",
       "      <th>yards_per_game_played</th>\n",
       "      <th>wins</th>\n",
       "      <th>fumbles_per_game</th>\n",
       "      <th>int_per_game</th>\n",
       "      <th>win_per</th>\n",
       "      <th>hof</th>\n",
       "      <th>start_year</th>\n",
       "      <th>end_year</th>\n",
       "    </tr>\n",
       "    <tr>\n",
       "      <th>player_id</th>\n",
       "      <th></th>\n",
       "      <th></th>\n",
       "      <th></th>\n",
       "      <th></th>\n",
       "      <th></th>\n",
       "      <th></th>\n",
       "      <th></th>\n",
       "      <th></th>\n",
       "      <th></th>\n",
       "      <th></th>\n",
       "      <th></th>\n",
       "      <th></th>\n",
       "      <th></th>\n",
       "      <th></th>\n",
       "      <th></th>\n",
       "      <th></th>\n",
       "      <th></th>\n",
       "      <th></th>\n",
       "      <th></th>\n",
       "      <th></th>\n",
       "      <th></th>\n",
       "      <th></th>\n",
       "      <th></th>\n",
       "      <th></th>\n",
       "      <th></th>\n",
       "      <th></th>\n",
       "      <th></th>\n",
       "      <th></th>\n",
       "      <th></th>\n",
       "      <th></th>\n",
       "      <th></th>\n",
       "      <th></th>\n",
       "      <th></th>\n",
       "      <th></th>\n",
       "    </tr>\n",
       "  </thead>\n",
       "  <tbody>\n",
       "    <tr>\n",
       "      <th>CampJa00</th>\n",
       "      <td>5.47</td>\n",
       "      <td>6.3</td>\n",
       "      <td>2518.0</td>\n",
       "      <td>1519.0</td>\n",
       "      <td>7.0</td>\n",
       "      <td>10.0</td>\n",
       "      <td>90.0</td>\n",
       "      <td>79.0</td>\n",
       "      <td>2.4</td>\n",
       "      <td>5.83</td>\n",
       "      <td>60.3</td>\n",
       "      <td>3.5</td>\n",
       "      <td>87.0</td>\n",
       "      <td>16771.0</td>\n",
       "      <td>6.7</td>\n",
       "      <td>81.7</td>\n",
       "      <td>240.0</td>\n",
       "      <td>2.7</td>\n",
       "      <td>6.0</td>\n",
       "      <td>1204.0</td>\n",
       "      <td>5.0</td>\n",
       "      <td>13.4</td>\n",
       "      <td>6.0</td>\n",
       "      <td>170.0</td>\n",
       "      <td>1204.0</td>\n",
       "      <td>11.0</td>\n",
       "      <td>186.3</td>\n",
       "      <td>32</td>\n",
       "      <td>0.577778</td>\n",
       "      <td>0.666667</td>\n",
       "      <td>0.355556</td>\n",
       "      <td>0.0</td>\n",
       "      <td>2006.0</td>\n",
       "      <td>2014.0</td>\n",
       "    </tr>\n",
       "    <tr>\n",
       "      <th>OrtoKy00</th>\n",
       "      <td>5.54</td>\n",
       "      <td>6.3</td>\n",
       "      <td>2712.0</td>\n",
       "      <td>1613.0</td>\n",
       "      <td>8.0</td>\n",
       "      <td>9.0</td>\n",
       "      <td>87.0</td>\n",
       "      <td>82.0</td>\n",
       "      <td>2.5</td>\n",
       "      <td>5.92</td>\n",
       "      <td>59.5</td>\n",
       "      <td>3.7</td>\n",
       "      <td>101.0</td>\n",
       "      <td>18037.0</td>\n",
       "      <td>6.7</td>\n",
       "      <td>81.2</td>\n",
       "      <td>126.0</td>\n",
       "      <td>1.4</td>\n",
       "      <td>4.0</td>\n",
       "      <td>296.0</td>\n",
       "      <td>2.3</td>\n",
       "      <td>3.4</td>\n",
       "      <td>4.0</td>\n",
       "      <td>165.0</td>\n",
       "      <td>296.0</td>\n",
       "      <td>11.2</td>\n",
       "      <td>207.3</td>\n",
       "      <td>42</td>\n",
       "      <td>0.402299</td>\n",
       "      <td>0.793103</td>\n",
       "      <td>0.482759</td>\n",
       "      <td>0.0</td>\n",
       "      <td>2005.0</td>\n",
       "      <td>2014.0</td>\n",
       "    </tr>\n",
       "    <tr>\n",
       "      <th>PondCh00</th>\n",
       "      <td>4.60</td>\n",
       "      <td>5.5</td>\n",
       "      <td>1057.0</td>\n",
       "      <td>632.0</td>\n",
       "      <td>2.0</td>\n",
       "      <td>3.0</td>\n",
       "      <td>38.0</td>\n",
       "      <td>36.0</td>\n",
       "      <td>3.4</td>\n",
       "      <td>5.34</td>\n",
       "      <td>59.8</td>\n",
       "      <td>3.6</td>\n",
       "      <td>38.0</td>\n",
       "      <td>6658.0</td>\n",
       "      <td>6.3</td>\n",
       "      <td>75.9</td>\n",
       "      <td>126.0</td>\n",
       "      <td>3.3</td>\n",
       "      <td>7.0</td>\n",
       "      <td>639.0</td>\n",
       "      <td>5.1</td>\n",
       "      <td>16.8</td>\n",
       "      <td>7.0</td>\n",
       "      <td>95.0</td>\n",
       "      <td>624.0</td>\n",
       "      <td>10.5</td>\n",
       "      <td>175.2</td>\n",
       "      <td>14</td>\n",
       "      <td>0.526316</td>\n",
       "      <td>0.947368</td>\n",
       "      <td>0.368421</td>\n",
       "      <td>0.0</td>\n",
       "      <td>2011.0</td>\n",
       "      <td>2014.0</td>\n",
       "    </tr>\n",
       "    <tr>\n",
       "      <th>CarrDa00</th>\n",
       "      <td>4.34</td>\n",
       "      <td>5.5</td>\n",
       "      <td>2267.0</td>\n",
       "      <td>1353.0</td>\n",
       "      <td>7.0</td>\n",
       "      <td>11.0</td>\n",
       "      <td>94.0</td>\n",
       "      <td>79.0</td>\n",
       "      <td>3.1</td>\n",
       "      <td>5.09</td>\n",
       "      <td>59.7</td>\n",
       "      <td>2.9</td>\n",
       "      <td>65.0</td>\n",
       "      <td>14452.0</td>\n",
       "      <td>6.4</td>\n",
       "      <td>74.9</td>\n",
       "      <td>305.0</td>\n",
       "      <td>3.2</td>\n",
       "      <td>9.0</td>\n",
       "      <td>1328.0</td>\n",
       "      <td>4.4</td>\n",
       "      <td>14.1</td>\n",
       "      <td>9.0</td>\n",
       "      <td>267.0</td>\n",
       "      <td>1328.0</td>\n",
       "      <td>10.7</td>\n",
       "      <td>153.7</td>\n",
       "      <td>23</td>\n",
       "      <td>0.755319</td>\n",
       "      <td>0.755319</td>\n",
       "      <td>0.244681</td>\n",
       "      <td>0.0</td>\n",
       "      <td>2002.0</td>\n",
       "      <td>2012.0</td>\n",
       "    </tr>\n",
       "    <tr>\n",
       "      <th>BatcCh00</th>\n",
       "      <td>5.14</td>\n",
       "      <td>6.2</td>\n",
       "      <td>1604.0</td>\n",
       "      <td>908.0</td>\n",
       "      <td>9.0</td>\n",
       "      <td>11.0</td>\n",
       "      <td>81.0</td>\n",
       "      <td>55.0</td>\n",
       "      <td>3.2</td>\n",
       "      <td>5.78</td>\n",
       "      <td>56.6</td>\n",
       "      <td>3.8</td>\n",
       "      <td>61.0</td>\n",
       "      <td>11085.0</td>\n",
       "      <td>6.9</td>\n",
       "      <td>77.2</td>\n",
       "      <td>172.0</td>\n",
       "      <td>2.1</td>\n",
       "      <td>6.0</td>\n",
       "      <td>637.0</td>\n",
       "      <td>3.7</td>\n",
       "      <td>7.9</td>\n",
       "      <td>6.0</td>\n",
       "      <td>161.0</td>\n",
       "      <td>637.0</td>\n",
       "      <td>12.2</td>\n",
       "      <td>136.9</td>\n",
       "      <td>25</td>\n",
       "      <td>0.296296</td>\n",
       "      <td>0.641975</td>\n",
       "      <td>0.308642</td>\n",
       "      <td>0.0</td>\n",
       "      <td>1998.0</td>\n",
       "      <td>2012.0</td>\n",
       "    </tr>\n",
       "  </tbody>\n",
       "</table>\n",
       "</div>"
      ],
      "text/plain": [
       "           adjusted_net_yards_per_pass_attempt  adjusted_yards_per_attempt  \\\n",
       "player_id                                                                    \n",
       "CampJa00                                  5.47                         6.3   \n",
       "OrtoKy00                                  5.54                         6.3   \n",
       "PondCh00                                  4.60                         5.5   \n",
       "CarrDa00                                  4.34                         5.5   \n",
       "BatcCh00                                  5.14                         6.2   \n",
       "\n",
       "           attempted_passes  completed_passes  fourth_quarter_comebacks  \\\n",
       "player_id                                                                 \n",
       "CampJa00             2518.0            1519.0                       7.0   \n",
       "OrtoKy00             2712.0            1613.0                       8.0   \n",
       "PondCh00             1057.0             632.0                       2.0   \n",
       "CarrDa00             2267.0            1353.0                       7.0   \n",
       "BatcCh00             1604.0             908.0                       9.0   \n",
       "\n",
       "           game_winning_drives  games  games_started  interception_percentage  \\\n",
       "player_id                                                                       \n",
       "CampJa00                  10.0   90.0           79.0                      2.4   \n",
       "OrtoKy00                   9.0   87.0           82.0                      2.5   \n",
       "PondCh00                   3.0   38.0           36.0                      3.4   \n",
       "CarrDa00                  11.0   94.0           79.0                      3.1   \n",
       "BatcCh00                  11.0   81.0           55.0                      3.2   \n",
       "\n",
       "           net_yards_per_pass_attempt  passing_completion  \\\n",
       "player_id                                                   \n",
       "CampJa00                         5.83                60.3   \n",
       "OrtoKy00                         5.92                59.5   \n",
       "PondCh00                         5.34                59.8   \n",
       "CarrDa00                         5.09                59.7   \n",
       "BatcCh00                         5.78                56.6   \n",
       "\n",
       "           passing_touchdown_percentage  passing_touchdowns  passing_yards  \\\n",
       "player_id                                                                    \n",
       "CampJa00                            3.5                87.0        16771.0   \n",
       "OrtoKy00                            3.7               101.0        18037.0   \n",
       "PondCh00                            3.6                38.0         6658.0   \n",
       "CarrDa00                            2.9                65.0        14452.0   \n",
       "BatcCh00                            3.8                61.0        11085.0   \n",
       "\n",
       "           passing_yards_per_attempt  quarterback_rating  rush_attempts  \\\n",
       "player_id                                                                 \n",
       "CampJa00                         6.7                81.7          240.0   \n",
       "OrtoKy00                         6.7                81.2          126.0   \n",
       "PondCh00                         6.3                75.9          126.0   \n",
       "CarrDa00                         6.4                74.9          305.0   \n",
       "BatcCh00                         6.9                77.2          172.0   \n",
       "\n",
       "           rush_attempts_per_game  rush_touchdowns  rush_yards  \\\n",
       "player_id                                                        \n",
       "CampJa00                      2.7              6.0      1204.0   \n",
       "OrtoKy00                      1.4              4.0       296.0   \n",
       "PondCh00                      3.3              7.0       639.0   \n",
       "CarrDa00                      3.2              9.0      1328.0   \n",
       "BatcCh00                      2.1              6.0       637.0   \n",
       "\n",
       "           rush_yards_per_attempt  rush_yards_per_game  \\\n",
       "player_id                                                \n",
       "CampJa00                      5.0                 13.4   \n",
       "OrtoKy00                      2.3                  3.4   \n",
       "PondCh00                      5.1                 16.8   \n",
       "CarrDa00                      4.4                 14.1   \n",
       "BatcCh00                      3.7                  7.9   \n",
       "\n",
       "           rushing_and_receiving_touchdowns  times_sacked  \\\n",
       "player_id                                                   \n",
       "CampJa00                                6.0         170.0   \n",
       "OrtoKy00                                4.0         165.0   \n",
       "PondCh00                                7.0          95.0   \n",
       "CarrDa00                                9.0         267.0   \n",
       "BatcCh00                                6.0         161.0   \n",
       "\n",
       "           yards_from_scrimmage  yards_per_completed_pass  \\\n",
       "player_id                                                   \n",
       "CampJa00                 1204.0                      11.0   \n",
       "OrtoKy00                  296.0                      11.2   \n",
       "PondCh00                  624.0                      10.5   \n",
       "CarrDa00                 1328.0                      10.7   \n",
       "BatcCh00                  637.0                      12.2   \n",
       "\n",
       "           yards_per_game_played  wins  fumbles_per_game  int_per_game  \\\n",
       "player_id                                                                \n",
       "CampJa00                   186.3    32          0.577778      0.666667   \n",
       "OrtoKy00                   207.3    42          0.402299      0.793103   \n",
       "PondCh00                   175.2    14          0.526316      0.947368   \n",
       "CarrDa00                   153.7    23          0.755319      0.755319   \n",
       "BatcCh00                   136.9    25          0.296296      0.641975   \n",
       "\n",
       "            win_per  hof  start_year  end_year  \n",
       "player_id                                       \n",
       "CampJa00   0.355556  0.0      2006.0    2014.0  \n",
       "OrtoKy00   0.482759  0.0      2005.0    2014.0  \n",
       "PondCh00   0.368421  0.0      2011.0    2014.0  \n",
       "CarrDa00   0.244681  0.0      2002.0    2012.0  \n",
       "BatcCh00   0.308642  0.0      1998.0    2012.0  "
      ]
     },
     "execution_count": 8,
     "metadata": {},
     "output_type": "execute_result"
    }
   ],
   "source": [
    "qb_df.head()"
   ]
  },
  {
   "cell_type": "markdown",
   "metadata": {},
   "source": [
    "# Train/Test Split"
   ]
  },
  {
   "cell_type": "code",
   "execution_count": 9,
   "metadata": {},
   "outputs": [],
   "source": [
    "target = 'hof'\n",
    "y = qb_df[target]\n",
    "X = qb_df.drop(columns=target)"
   ]
  },
  {
   "cell_type": "code",
   "execution_count": 10,
   "metadata": {},
   "outputs": [],
   "source": [
    "from sklearn.model_selection import train_test_split\n",
    "#Train/test split, because I have a small imbalanced dataset I made sure to stratify my data\n",
    "X_train, X_val, y_train, y_val = train_test_split(X, y, stratify=y, test_size=0.2, random_state=42)"
   ]
  },
  {
   "cell_type": "markdown",
   "metadata": {},
   "source": [
    "# Baseline"
   ]
  },
  {
   "cell_type": "code",
   "execution_count": 11,
   "metadata": {},
   "outputs": [
    {
     "name": "stdout",
     "output_type": "stream",
     "text": [
      "Baseline Accuracy: 0.8827586206896552\n"
     ]
    }
   ],
   "source": [
    "baseline_acc = y_train.value_counts(normalize=True).max()\n",
    "\n",
    "print('Baseline Accuracy:', baseline_acc)"
   ]
  },
  {
   "cell_type": "markdown",
   "metadata": {},
   "source": [
    "# Build Model - Logistic Regression"
   ]
  },
  {
   "cell_type": "code",
   "execution_count": 12,
   "metadata": {},
   "outputs": [],
   "source": [
    "from sklearn.linear_model import LogisticRegression\n",
    "from sklearn.preprocessing import StandardScaler\n",
    "from sklearn.pipeline import make_pipeline"
   ]
  },
  {
   "cell_type": "code",
   "execution_count": 13,
   "metadata": {},
   "outputs": [],
   "source": [
    "np.random.seed(42) "
   ]
  },
  {
   "cell_type": "code",
   "execution_count": 14,
   "metadata": {},
   "outputs": [],
   "source": [
    "# Increasing hyperparameter C increases the accuracy score\n",
    "\n",
    "log_model = make_pipeline(\n",
    "       StandardScaler(),\n",
    "       LogisticRegression(solver = 'newton-cg', penalty = 'l2', C = 100)\n",
    ")\n",
    "\n",
    "log_model.fit(X_train, y_train);"
   ]
  },
  {
   "cell_type": "markdown",
   "metadata": {},
   "source": [
    "## Check Metrics - Logistic Regression"
   ]
  },
  {
   "cell_type": "code",
   "execution_count": 15,
   "metadata": {},
   "outputs": [
    {
     "name": "stdout",
     "output_type": "stream",
     "text": [
      "Training Accuracy Score: 1.0\n",
      "Validation Accuracy Score: 0.972972972972973\n"
     ]
    }
   ],
   "source": [
    "print('Training Accuracy Score:', log_model.score(X_train, y_train))\n",
    "print('Validation Accuracy Score:', log_model.score(X_val, y_val))"
   ]
  },
  {
   "cell_type": "markdown",
   "metadata": {},
   "source": [
    "## Permutation Importance - Logistic Regression"
   ]
  },
  {
   "cell_type": "code",
   "execution_count": 16,
   "metadata": {},
   "outputs": [
    {
     "data": {
      "image/png": "[encoded data removed]",
      "text/plain": [
       "<Figure size 432x288 with 1 Axes>"
      ]
     },
     "metadata": {
      "needs_background": "light"
     },
     "output_type": "display_data"
    }
   ],
   "source": [
    "from sklearn.inspection import permutation_importance\n",
    "\n",
    "perm_imp = permutation_importance(log_model, X_val, y_val, n_jobs=-1, random_state=42)\n",
    "\n",
    "data = {'mean_importance' : perm_imp['importances_mean'], 'std_importances' : perm_imp['importances_std']}\n",
    "\n",
    "df = pd.DataFrame(data, index=X_val.columns)\n",
    "df.sort_values('mean_importance', ascending=True, inplace=True)\n",
    "\n",
    "df['mean_importance'].tail(15).plot(kind='barh')\n",
    "plt.xlabel('Importance (change in accuracy)')\n",
    "plt.ylabel('Feature')\n",
    "plt.title('Permutation importance for logistic regression');"
   ]
  },
  {
   "cell_type": "markdown",
   "metadata": {},
   "source": [
    "# Build Model - Random Forest"
   ]
  },
  {
   "cell_type": "code",
   "execution_count": 17,
   "metadata": {},
   "outputs": [],
   "source": [
    "from sklearn.ensemble import RandomForestClassifier"
   ]
  },
  {
   "cell_type": "code",
   "execution_count": 18,
   "metadata": {},
   "outputs": [
    {
     "data": {
      "text/plain": [
       "RandomForestClassifier(max_depth=2, n_estimators=500)"
      ]
     },
     "execution_count": 18,
     "metadata": {},
     "output_type": "execute_result"
    }
   ],
   "source": [
    "forest_model = RandomForestClassifier(max_depth=2, n_estimators=500)\n",
    "\n",
    "forest_model.fit(X_train, y_train)"
   ]
  },
  {
   "cell_type": "markdown",
   "metadata": {},
   "source": [
    "## Check Metrics - Random Forest"
   ]
  },
  {
   "cell_type": "code",
   "execution_count": 19,
   "metadata": {},
   "outputs": [
    {
     "name": "stdout",
     "output_type": "stream",
     "text": [
      "FOREST: Training Accuracy: 0.9655172413793104\n",
      "FOREST: VAl Accuracy: 0.9459459459459459\n"
     ]
    }
   ],
   "source": [
    "print('FOREST: Training Accuracy:', forest_model.score(X_train, y_train))\n",
    "print('FOREST: VAl Accuracy:', forest_model.score(X_val, y_val))"
   ]
  },
  {
   "cell_type": "markdown",
   "metadata": {},
   "source": [
    "## Permutation Importance - Random Forest"
   ]
  },
  {
   "cell_type": "code",
   "execution_count": 20,
   "metadata": {},
   "outputs": [
    {
     "data": {
      "image/png": "[encoded data removed]",
      "text/plain": [
       "<Figure size 432x288 with 1 Axes>"
      ]
     },
     "metadata": {
      "needs_background": "light"
     },
     "output_type": "display_data"
    }
   ],
   "source": [
    "from sklearn.inspection import permutation_importance\n",
    "\n",
    "perm_imp = permutation_importance(forest_model, X_val, y_val, n_jobs=-1, random_state=42)\n",
    "\n",
    "data = {'mean_importance' : perm_imp['importances_mean'], 'std_importances' : perm_imp['importances_std']}\n",
    "\n",
    "df = pd.DataFrame(data, index=X_val.columns)\n",
    "df.sort_values('mean_importance', ascending=True, inplace=True)\n",
    "\n",
    "df['mean_importance'].tail(15).plot(kind='barh')\n",
    "plt.xlabel('Importance (change in accuracy)')\n",
    "plt.ylabel('Feature')\n",
    "plt.title('Permutation importance for random forest model');"
   ]
  },
  {
   "cell_type": "markdown",
   "metadata": {},
   "source": [
    "# Build Model - XGBoost"
   ]
  },
  {
   "cell_type": "code",
   "execution_count": 21,
   "metadata": {},
   "outputs": [],
   "source": [
    "from xgboost import XGBClassifier\n",
    "from sklearn.ensemble import GradientBoostingClassifier"
   ]
  },
  {
   "cell_type": "code",
   "execution_count": 22,
   "metadata": {},
   "outputs": [],
   "source": [
    "boost_model = XGBClassifier(n_jobs=-1, random_state=42, n_estimators= 200, max_depth= 1, eta= 0.01, colsample_bytree= 0.6)\n",
    "\n",
    "boost_model.fit(X_train, y_train);"
   ]
  },
  {
   "cell_type": "markdown",
   "metadata": {},
   "source": [
    "## Check Metrics - XGBoost"
   ]
  },
  {
   "cell_type": "code",
   "execution_count": 23,
   "metadata": {},
   "outputs": [
    {
     "name": "stdout",
     "output_type": "stream",
     "text": [
      "Training accuracy: 0.9655172413793104\n",
      "Val accuracy: 0.972972972972973\n"
     ]
    }
   ],
   "source": [
    "print('Training accuracy:', boost_model.score(X_train, y_train))\n",
    "print('Val accuracy:', boost_model.score(X_val, y_val))"
   ]
  },
  {
   "cell_type": "markdown",
   "metadata": {},
   "source": [
    "## Permutation Importance - XGBoost"
   ]
  },
  {
   "cell_type": "code",
   "execution_count": 24,
   "metadata": {},
   "outputs": [
    {
     "data": {
      "image/png": "[encoded data removed]",
      "text/plain": [
       "<Figure size 432x288 with 1 Axes>"
      ]
     },
     "metadata": {
      "needs_background": "light"
     },
     "output_type": "display_data"
    }
   ],
   "source": [
    "from sklearn.inspection import permutation_importance\n",
    "\n",
    "perm_imp = permutation_importance(boost_model, X_val, y_val, n_jobs=-1, random_state=42)\n",
    "\n",
    "data = {'mean_importance' : perm_imp['importances_mean'], 'std_importances' : perm_imp['importances_std']}\n",
    "\n",
    "df = pd.DataFrame(data, index=X_val.columns)\n",
    "df.sort_values('mean_importance', ascending=True, inplace=True)\n",
    "\n",
    "df['mean_importance'].tail(5).plot(kind='barh')\n",
    "plt.xlabel('Importance (change in accuracy)')\n",
    "plt.ylabel('Feature')\n",
    "plt.title('Permutation importance for model_xgb');"
   ]
  },
  {
   "cell_type": "markdown",
   "metadata": {},
   "source": [
    "# ROC-Curve compare Logistic Regression, Random Forest and XGBoost"
   ]
  },
  {
   "cell_type": "code",
   "execution_count": 25,
   "metadata": {},
   "outputs": [],
   "source": [
    "from sklearn.metrics import plot_roc_curve"
   ]
  },
  {
   "cell_type": "code",
   "execution_count": 26,
   "metadata": {},
   "outputs": [
    {
     "data": {
      "image/png": "[encoded data removed]",
      "text/plain": [
       "<Figure size 1440x360 with 3 Axes>"
      ]
     },
     "metadata": {
      "needs_background": "light"
     },
     "output_type": "display_data"
    }
   ],
   "source": [
    "fig, (ax1, ax2, ax3) = plt.subplots(ncols=3, nrows=1, figsize=(20,5))\n",
    "\n",
    "plot_roc_curve(log_model, X_val, y_val, ax=ax1)\n",
    "plot_roc_curve(forest_model, X_val, y_val, ax=ax2)\n",
    "plot_roc_curve(boost_model, X_val, y_val, ax=ax3)\n",
    "\n",
    "ax1.plot([(0,0), (1,1)], color='grey', linestyle='--')\n",
    "ax2.plot([(0,0), (1,1)], color='grey', linestyle='--')\n",
    "ax3.plot([(0,0), (1,1)], color='grey', linestyle='--')\n",
    "\n",
    "\n",
    "ax1.set_title('Logistic Regression')\n",
    "ax2.set_title('Random Forest')\n",
    "ax3.set_title('XGBoost')\n",
    "\n",
    "plt.show()"
   ]
  },
  {
   "cell_type": "markdown",
   "metadata": {},
   "source": [
    "# Testing/Choosing a Model\n",
    "\n",
    "Because I'm dealing with a small imbalanced dataset I feel it is importanct to use cross validation. However, using cross validation to start will limit some of the my ability to check permuation importance and check the accuracy/performance of my model. So I decided to run 3 models using a stratified train/set find the one that performed the best and use that model with a randomsearchcv. \n",
    "\n",
    "After running the three models, the XGBoost model gives me the best accuracy and the best ROC-curve. "
   ]
  },
  {
   "cell_type": "markdown",
   "metadata": {},
   "source": [
    "# XGboost with K-folds"
   ]
  },
  {
   "cell_type": "code",
   "execution_count": 27,
   "metadata": {},
   "outputs": [
    {
     "ename": "NameError",
     "evalue": "name 'RandomizedSearchCV' is not defined",
     "output_type": "error",
     "traceback": [
      "\u001b[0;31m---------------------------------------------------------------------------\u001b[0m",
      "\u001b[0;31mNameError\u001b[0m                                 Traceback (most recent call last)",
      "\u001b[0;32m<ipython-input-27-a7fa2914abf7>\u001b[0m in \u001b[0;36m<module>\u001b[0;34m\u001b[0m\n\u001b[1;32m      8\u001b[0m  }\n\u001b[1;32m      9\u001b[0m \u001b[0;34m\u001b[0m\u001b[0m\n\u001b[0;32m---> 10\u001b[0;31m xgboost_rand_search = RandomizedSearchCV(xgboost_model1, param_distributions=param_space, n_iter=20,\n\u001b[0m\u001b[1;32m     11\u001b[0m                                          \u001b[0mscoring\u001b[0m\u001b[0;34m=\u001b[0m\u001b[0;34m\"accuracy\"\u001b[0m\u001b[0;34m,\u001b[0m \u001b[0mverbose\u001b[0m\u001b[0;34m=\u001b[0m\u001b[0;32mTrue\u001b[0m\u001b[0;34m,\u001b[0m \u001b[0mcv\u001b[0m\u001b[0;34m=\u001b[0m\u001b[0mStratifiedKFold\u001b[0m\u001b[0;34m(\u001b[0m\u001b[0mn_splits\u001b[0m\u001b[0;34m=\u001b[0m\u001b[0;36m5\u001b[0m\u001b[0;34m)\u001b[0m\u001b[0;34m,\u001b[0m\u001b[0;34m\u001b[0m\u001b[0;34m\u001b[0m\u001b[0m\n\u001b[1;32m     12\u001b[0m                                          n_jobs=-1, random_state=42)\n",
      "\u001b[0;31mNameError\u001b[0m: name 'RandomizedSearchCV' is not defined"
     ]
    }
   ],
   "source": [
    "xgboost_model1 = XGBClassifier()\n",
    "\n",
    "param_space = {\n",
    "         \"max_depth\": [1, 2, 3, 4],\n",
    "         \"eta\": [0.3, 0.2, 0.1, 0.05, 0.01],\n",
    "         \"n_estimators\": [100, 200, 300, 400, 500],\n",
    "         \"colsample_bytree\" : [0.5, 0.6, 0.7, 0.8, 0.9, 1]\n",
    " }\n",
    "\n",
    "xgboost_rand_search = RandomizedSearchCV(xgboost_model1, param_distributions=param_space, n_iter=20,\n",
    "                                         scoring=\"accuracy\", verbose=True, cv=StratifiedKFold(n_splits=5),\n",
    "                                         n_jobs=-1, random_state=42)\n",
    "\n",
    "xgboost_rand_search.fit(X, y)"
   ]
  },
  {
   "cell_type": "code",
   "execution_count": null,
   "metadata": {},
   "outputs": [],
   "source": [
    "xgboost_rand_search.best_params_"
   ]
  },
  {
   "cell_type": "code",
   "execution_count": null,
   "metadata": {},
   "outputs": [],
   "source": [
    "xgboost_rand_search.best_score_"
   ]
  },
  {
   "cell_type": "markdown",
   "metadata": {},
   "source": [
    "# Use model to predict the next HOF QBs\n",
    "\n",
    "### Current players and players who've retired less than 5 years ago are ineligible. They are the perfect candidates to test my predictions on."
   ]
  },
  {
   "cell_type": "code",
   "execution_count": null,
   "metadata": {},
   "outputs": [],
   "source": [
    "y_pred_tree = xgboost_rand_search.predict(X_test)\n",
    "\n",
    "results = pd.DataFrame(y_pred_tree, columns=['hof'], index=X_test.index)"
   ]
  },
  {
   "cell_type": "code",
   "execution_count": null,
   "metadata": {},
   "outputs": [],
   "source": [
    "# QBs the model predicts will be the next to enter the HOF\n",
    "\n",
    "results[results1['hof'] == 1]"
   ]
  },
  {
   "cell_type": "markdown",
   "metadata": {},
   "source": [
    "# Shapley Plots"
   ]
  },
  {
   "cell_type": "code",
   "execution_count": null,
   "metadata": {},
   "outputs": [],
   "source": [
    "import shap"
   ]
  },
  {
   "cell_type": "markdown",
   "metadata": {},
   "source": [
    "## Tom Brady"
   ]
  },
  {
   "cell_type": "code",
   "execution_count": null,
   "metadata": {},
   "outputs": [],
   "source": [
    "row = X_test[X_test.index == 'BradTo00']\n",
    "\n",
    "explainer = shap.TreeExplainer(boost_model)\n",
    "shap_values = explainer.shap_values(row)\n",
    "shap.initjs()\n",
    "shap.force_plot(\n",
    "    base_value=explainer.expected_value,\n",
    "    shap_values=shap_values,\n",
    "    features=row\n",
    ")"
   ]
  },
  {
   "cell_type": "markdown",
   "metadata": {},
   "source": [
    "# Eli Manning"
   ]
  },
  {
   "cell_type": "code",
   "execution_count": null,
   "metadata": {},
   "outputs": [],
   "source": [
    "row = X_test[X_test.index == 'MannEl00']\n",
    "\n",
    "explainer = shap.TreeExplainer(boost_model)\n",
    "shap_values = explainer.shap_values(row)\n",
    "shap.initjs()\n",
    "shap.force_plot(\n",
    "    base_value=explainer.expected_value,\n",
    "    shap_values=shap_values,\n",
    "    features=row\n",
    ")"
   ]
  },
  {
   "cell_type": "markdown",
   "metadata": {},
   "source": [
    "## Patrick Mahomes"
   ]
  },
  {
   "cell_type": "code",
   "execution_count": null,
   "metadata": {},
   "outputs": [],
   "source": [
    "row = X_test[X_test.index == 'MahoPa00']\n",
    "\n",
    "\n",
    "explainer = shap.TreeExplainer(boost_model)\n",
    "shap_values = explainer.shap_values(row)\n",
    "shap.initjs()\n",
    "shap.force_plot(\n",
    "    base_value=explainer.expected_value,\n",
    "    shap_values=shap_values,\n",
    "    features=row\n",
    ")"
   ]
  },
  {
   "cell_type": "markdown",
   "metadata": {},
   "source": [
    "## Joe Flaco"
   ]
  },
  {
   "cell_type": "code",
   "execution_count": null,
   "metadata": {},
   "outputs": [],
   "source": [
    "row = X_test[X_test.index == 'FlacJo00']\n",
    "\n",
    "\n",
    "explainer = shap.TreeExplainer(boost_model)\n",
    "shap_values = explainer.shap_values(row)\n",
    "shap.initjs()\n",
    "shap.force_plot(\n",
    "    base_value=explainer.expected_value,\n",
    "    shap_values=shap_values,\n",
    "    features=row\n",
    ")"
   ]
  },
  {
   "cell_type": "markdown",
   "metadata": {},
   "source": [
    "# PDP Charts for Most Important Features"
   ]
  },
  {
   "cell_type": "code",
   "execution_count": null,
   "metadata": {},
   "outputs": [],
   "source": [
    "from pdpbox.pdp import pdp_isolate, pdp_plot\n",
    "\n",
    "feature = 'wins'\n",
    "\n",
    "isolate = pdp_isolate(\n",
    "    model=xgboost_rand_search,\n",
    "    dataset=X, #\n",
    "    model_features=X.columns,\n",
    "    feature=feature\n",
    ")\n",
    "\n",
    "pdp_plot(isolate, feature_name=feature);"
   ]
  },
  {
   "cell_type": "code",
   "execution_count": null,
   "metadata": {},
   "outputs": [],
   "source": [
    "from pdpbox.pdp import pdp_isolate, pdp_plot\n",
    "\n",
    "feature = 'net_yards_per_pass_attempt'\n",
    "\n",
    "isolate = pdp_isolate(\n",
    "    model=xgboost_rand_search,\n",
    "    dataset=X,\n",
    "    model_features=X.columns,\n",
    "    feature=feature\n",
    ")\n",
    "\n",
    "pdp_plot(isolate, feature_name=feature);"
   ]
  },
  {
   "cell_type": "code",
   "execution_count": null,
   "metadata": {},
   "outputs": [],
   "source": [
    "from pdpbox.pdp import pdp_isolate, pdp_plot\n",
    "\n",
    "feature = 'passing_yards_per_attempt'\n",
    "\n",
    "isolate = pdp_isolate(\n",
    "    model=xgboost_rand_search,\n",
    "    dataset=X,\n",
    "    model_features=X.columns,\n",
    "    feature=feature\n",
    ")\n",
    "\n",
    "pdp_plot(isolate, feature_name=feature);"
   ]
  },
  {
   "cell_type": "code",
   "execution_count": null,
   "metadata": {},
   "outputs": [],
   "source": []
  },
  {
   "cell_type": "code",
   "execution_count": null,
   "metadata": {},
   "outputs": [],
   "source": []
  },
  {
   "cell_type": "code",
   "execution_count": null,
   "metadata": {},
   "outputs": [],
   "source": []
  },
  {
   "cell_type": "code",
   "execution_count": null,
   "metadata": {},
   "outputs": [],
   "source": []
  }
 ],
 "metadata": {
  "kernelspec": {
   "display_name": "Python 3",
   "language": "python",
   "name": "python3"
  },
  "language_info": {
   "codemirror_mode": {
    "name": "ipython",
    "version": 3
   },
   "file_extension": ".py",
   "mimetype": "text/x-python",
   "name": "python",
   "nbconvert_exporter": "python",
   "pygments_lexer": "ipython3",
   "version": "3.7.9"
  }
 },
 "nbformat": 4,
 "nbformat_minor": 4
}
